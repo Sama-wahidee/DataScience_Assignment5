{
 "cells": [
  {
   "cell_type": "markdown",
   "id": "a5680652-bc9e-40be-9e81-c277b8b53ff0",
   "metadata": {},
   "source": [
    "Name: Sama Wahidee \n",
    "ID: 1211503\n",
    "Section: 1\n",
    "Assignment#: 5"
   ]
  },
  {
   "cell_type": "markdown",
   "id": "c81d9d7b-6f00-41e8-aec5-393b4ddcbd3c",
   "metadata": {},
   "source": [
    "In this assignment you need to analyse a UK-based online retail transactions occurring between 01/12/2009 and 09/12/2011.The company mainly sells unique all-occasion gift-ware. https://www.kaggle.com/datasets/mashlyn/online-retail-ii-uci\n",
    "Using the data you need to answer the following questions:\n",
    "Load the dataset into your notebook\n",
    "Randomly select 200k row from the dataset using your ID as seed.\n",
    "Using proper grouping and aggregations, answer the following questions:\n",
    "Determine the total sales per invoice and identify the top 5 invoices.\n",
    "Compute the total sales per customer and list the top 5 customers.\n",
    "Identify the top 5 selling items during this period.\n",
    "Determine the most frequently purchased item pairs by customers and display the top 20 pairs.\n",
    "The retail store aims to introduce a new promotion targeting items with low sales volume. This promotion entails offering a discounted price for a pair of two different items, with one item being among the top 10 best sellers and the other from the bottom 10 sellers. Customers who purchase these two items together will qualify for the special pricing. Your task is to recommend 10 pairs of items to kickstart this campaign.\n",
    "Your notebook should be clear to read. Each question should be answered in the following structure:\n",
    "Markdown cell containing the question and its number\n",
    "Code cell(s) to make the calculations\n",
    "Markdown cell for results and interpretation"
   ]
  },
  {
   "cell_type": "markdown",
   "id": "6b285336-f672-479c-a578-ca358bec4c55",
   "metadata": {},
   "source": [
    "1.1 Load the dataset into your notebook"
   ]
  },
  {
   "cell_type": "code",
   "execution_count": 28,
   "id": "77553f4a-9f37-4255-9020-73e3ddad6e38",
   "metadata": {},
   "outputs": [
    {
     "data": {
      "text/html": [
       "<div>\n",
       "<style scoped>\n",
       "    .dataframe tbody tr th:only-of-type {\n",
       "        vertical-align: middle;\n",
       "    }\n",
       "\n",
       "    .dataframe tbody tr th {\n",
       "        vertical-align: top;\n",
       "    }\n",
       "\n",
       "    .dataframe thead th {\n",
       "        text-align: right;\n",
       "    }\n",
       "</style>\n",
       "<table border=\"1\" class=\"dataframe\">\n",
       "  <thead>\n",
       "    <tr style=\"text-align: right;\">\n",
       "      <th></th>\n",
       "      <th>Invoice</th>\n",
       "      <th>StockCode</th>\n",
       "      <th>Description</th>\n",
       "      <th>Quantity</th>\n",
       "      <th>InvoiceDate</th>\n",
       "      <th>Price</th>\n",
       "      <th>Customer ID</th>\n",
       "      <th>Country</th>\n",
       "    </tr>\n",
       "  </thead>\n",
       "  <tbody>\n",
       "    <tr>\n",
       "      <th>0</th>\n",
       "      <td>489434</td>\n",
       "      <td>85048</td>\n",
       "      <td>15CM CHRISTMAS GLASS BALL 20 LIGHTS</td>\n",
       "      <td>12</td>\n",
       "      <td>2009-12-01 07:45:00</td>\n",
       "      <td>6.95</td>\n",
       "      <td>13085.0</td>\n",
       "      <td>United Kingdom</td>\n",
       "    </tr>\n",
       "    <tr>\n",
       "      <th>1</th>\n",
       "      <td>489434</td>\n",
       "      <td>79323P</td>\n",
       "      <td>PINK CHERRY LIGHTS</td>\n",
       "      <td>12</td>\n",
       "      <td>2009-12-01 07:45:00</td>\n",
       "      <td>6.75</td>\n",
       "      <td>13085.0</td>\n",
       "      <td>United Kingdom</td>\n",
       "    </tr>\n",
       "    <tr>\n",
       "      <th>2</th>\n",
       "      <td>489434</td>\n",
       "      <td>79323W</td>\n",
       "      <td>WHITE CHERRY LIGHTS</td>\n",
       "      <td>12</td>\n",
       "      <td>2009-12-01 07:45:00</td>\n",
       "      <td>6.75</td>\n",
       "      <td>13085.0</td>\n",
       "      <td>United Kingdom</td>\n",
       "    </tr>\n",
       "    <tr>\n",
       "      <th>3</th>\n",
       "      <td>489434</td>\n",
       "      <td>22041</td>\n",
       "      <td>RECORD FRAME 7\" SINGLE SIZE</td>\n",
       "      <td>48</td>\n",
       "      <td>2009-12-01 07:45:00</td>\n",
       "      <td>2.10</td>\n",
       "      <td>13085.0</td>\n",
       "      <td>United Kingdom</td>\n",
       "    </tr>\n",
       "    <tr>\n",
       "      <th>4</th>\n",
       "      <td>489434</td>\n",
       "      <td>21232</td>\n",
       "      <td>STRAWBERRY CERAMIC TRINKET BOX</td>\n",
       "      <td>24</td>\n",
       "      <td>2009-12-01 07:45:00</td>\n",
       "      <td>1.25</td>\n",
       "      <td>13085.0</td>\n",
       "      <td>United Kingdom</td>\n",
       "    </tr>\n",
       "  </tbody>\n",
       "</table>\n",
       "</div>"
      ],
      "text/plain": [
       "  Invoice StockCode                          Description  Quantity  \\\n",
       "0  489434     85048  15CM CHRISTMAS GLASS BALL 20 LIGHTS        12   \n",
       "1  489434    79323P                   PINK CHERRY LIGHTS        12   \n",
       "2  489434    79323W                  WHITE CHERRY LIGHTS        12   \n",
       "3  489434     22041         RECORD FRAME 7\" SINGLE SIZE         48   \n",
       "4  489434     21232       STRAWBERRY CERAMIC TRINKET BOX        24   \n",
       "\n",
       "           InvoiceDate  Price  Customer ID         Country  \n",
       "0  2009-12-01 07:45:00   6.95      13085.0  United Kingdom  \n",
       "1  2009-12-01 07:45:00   6.75      13085.0  United Kingdom  \n",
       "2  2009-12-01 07:45:00   6.75      13085.0  United Kingdom  \n",
       "3  2009-12-01 07:45:00   2.10      13085.0  United Kingdom  \n",
       "4  2009-12-01 07:45:00   1.25      13085.0  United Kingdom  "
      ]
     },
     "execution_count": 28,
     "metadata": {},
     "output_type": "execute_result"
    }
   ],
   "source": [
    "import pandas as pd\n",
    "\n",
    "# Load the dataset\n",
    "df = pd.read_csv(\"C:/Users/sama6/OneDrive/Desktop/BZU/Data Science/Assignment5/online_retail_II.csv\")\n",
    "\n",
    "# Display the first few rows of the DataFrame\n",
    "df.head()\n"
   ]
  },
  {
   "cell_type": "markdown",
   "id": "c9ec3ce7-4aaf-4757-b9d0-d04553d83b6b",
   "metadata": {},
   "source": [
    "1.2 Randomly select 200k row from the dataset using your ID as seed."
   ]
  },
  {
   "cell_type": "code",
   "execution_count": 27,
   "id": "4b3fd8ca-6deb-4fd6-9e81-3600652f93ec",
   "metadata": {},
   "outputs": [
    {
     "data": {
      "text/html": [
       "<div>\n",
       "<style scoped>\n",
       "    .dataframe tbody tr th:only-of-type {\n",
       "        vertical-align: middle;\n",
       "    }\n",
       "\n",
       "    .dataframe tbody tr th {\n",
       "        vertical-align: top;\n",
       "    }\n",
       "\n",
       "    .dataframe thead th {\n",
       "        text-align: right;\n",
       "    }\n",
       "</style>\n",
       "<table border=\"1\" class=\"dataframe\">\n",
       "  <thead>\n",
       "    <tr style=\"text-align: right;\">\n",
       "      <th></th>\n",
       "      <th>Invoice</th>\n",
       "      <th>StockCode</th>\n",
       "      <th>Description</th>\n",
       "      <th>Quantity</th>\n",
       "      <th>InvoiceDate</th>\n",
       "      <th>Price</th>\n",
       "      <th>Customer ID</th>\n",
       "      <th>Country</th>\n",
       "    </tr>\n",
       "  </thead>\n",
       "  <tbody>\n",
       "    <tr>\n",
       "      <th>870057</th>\n",
       "      <td>567092</td>\n",
       "      <td>85049E</td>\n",
       "      <td>SCANDINAVIAN REDS RIBBONS</td>\n",
       "      <td>12</td>\n",
       "      <td>2011-09-16 12:48:00</td>\n",
       "      <td>1.25</td>\n",
       "      <td>13196.0</td>\n",
       "      <td>United Kingdom</td>\n",
       "    </tr>\n",
       "    <tr>\n",
       "      <th>691254</th>\n",
       "      <td>550829</td>\n",
       "      <td>22722</td>\n",
       "      <td>SET OF 6 SPICE TINS PANTRY DESIGN</td>\n",
       "      <td>1</td>\n",
       "      <td>2011-04-21 10:19:00</td>\n",
       "      <td>3.95</td>\n",
       "      <td>17841.0</td>\n",
       "      <td>United Kingdom</td>\n",
       "    </tr>\n",
       "    <tr>\n",
       "      <th>512282</th>\n",
       "      <td>537200</td>\n",
       "      <td>21038</td>\n",
       "      <td>SET/4 MODERN VINTAGE COTTON NAPKINS</td>\n",
       "      <td>3</td>\n",
       "      <td>2010-12-05 14:17:00</td>\n",
       "      <td>2.95</td>\n",
       "      <td>15867.0</td>\n",
       "      <td>United Kingdom</td>\n",
       "    </tr>\n",
       "    <tr>\n",
       "      <th>172097</th>\n",
       "      <td>505710</td>\n",
       "      <td>22212</td>\n",
       "      <td>FOUR HOOK  WHITE LOVEBIRDS</td>\n",
       "      <td>6</td>\n",
       "      <td>2010-04-25 12:36:00</td>\n",
       "      <td>2.10</td>\n",
       "      <td>12474.0</td>\n",
       "      <td>Germany</td>\n",
       "    </tr>\n",
       "    <tr>\n",
       "      <th>1059045</th>\n",
       "      <td>581068</td>\n",
       "      <td>71477</td>\n",
       "      <td>COLOURED GLASS STAR T-LIGHT HOLDER</td>\n",
       "      <td>24</td>\n",
       "      <td>2011-12-07 11:26:00</td>\n",
       "      <td>3.29</td>\n",
       "      <td>16191.0</td>\n",
       "      <td>United Kingdom</td>\n",
       "    </tr>\n",
       "  </tbody>\n",
       "</table>\n",
       "</div>"
      ],
      "text/plain": [
       "        Invoice StockCode                          Description  Quantity  \\\n",
       "870057   567092    85049E            SCANDINAVIAN REDS RIBBONS        12   \n",
       "691254   550829     22722    SET OF 6 SPICE TINS PANTRY DESIGN         1   \n",
       "512282   537200     21038  SET/4 MODERN VINTAGE COTTON NAPKINS         3   \n",
       "172097   505710     22212           FOUR HOOK  WHITE LOVEBIRDS         6   \n",
       "1059045  581068     71477   COLOURED GLASS STAR T-LIGHT HOLDER        24   \n",
       "\n",
       "                 InvoiceDate  Price  Customer ID         Country  \n",
       "870057   2011-09-16 12:48:00   1.25      13196.0  United Kingdom  \n",
       "691254   2011-04-21 10:19:00   3.95      17841.0  United Kingdom  \n",
       "512282   2010-12-05 14:17:00   2.95      15867.0  United Kingdom  \n",
       "172097   2010-04-25 12:36:00   2.10      12474.0         Germany  \n",
       "1059045  2011-12-07 11:26:00   3.29      16191.0  United Kingdom  "
      ]
     },
     "execution_count": 27,
     "metadata": {},
     "output_type": "execute_result"
    }
   ],
   "source": [
    "# Set my ID as the seed for reproducibility\n",
    "seed = 1211503\n",
    "\n",
    "# Randomly select 200,000 rows from the dataset using my ID as seed\n",
    "random_sample = df.sample(n=200000, random_state=seed)\n",
    "\n",
    "# Display the first few rows of the randomly selected sample\n",
    "random_sample.head()\n"
   ]
  },
  {
   "cell_type": "markdown",
   "id": "26a0651c-3b9d-493f-a768-960df1a7dd43",
   "metadata": {},
   "source": [
    "2.1 Determine the total sales per invoice and identify the top 5 invoices."
   ]
  },
  {
   "cell_type": "code",
   "execution_count": 26,
   "id": "16dc248a-fdf2-4da7-a22a-d07e51a9c7cf",
   "metadata": {},
   "outputs": [
    {
     "name": "stdout",
     "output_type": "stream",
     "text": [
      "Top 5 invoices by total sales:\n"
     ]
    },
    {
     "data": {
      "text/html": [
       "<div>\n",
       "<style scoped>\n",
       "    .dataframe tbody tr th:only-of-type {\n",
       "        vertical-align: middle;\n",
       "    }\n",
       "\n",
       "    .dataframe tbody tr th {\n",
       "        vertical-align: top;\n",
       "    }\n",
       "\n",
       "    .dataframe thead th {\n",
       "        text-align: right;\n",
       "    }\n",
       "</style>\n",
       "<table border=\"1\" class=\"dataframe\">\n",
       "  <thead>\n",
       "    <tr style=\"text-align: right;\">\n",
       "      <th></th>\n",
       "      <th>Invoice</th>\n",
       "      <th>TS</th>\n",
       "    </tr>\n",
       "  </thead>\n",
       "  <tbody>\n",
       "    <tr>\n",
       "      <th>24192</th>\n",
       "      <td>556444</td>\n",
       "      <td>38970.00</td>\n",
       "    </tr>\n",
       "    <tr>\n",
       "      <th>17393</th>\n",
       "      <td>537659</td>\n",
       "      <td>11892.48</td>\n",
       "    </tr>\n",
       "    <tr>\n",
       "      <th>15080</th>\n",
       "      <td>531516</td>\n",
       "      <td>11195.96</td>\n",
       "    </tr>\n",
       "    <tr>\n",
       "      <th>21957</th>\n",
       "      <td>550461</td>\n",
       "      <td>11171.40</td>\n",
       "    </tr>\n",
       "    <tr>\n",
       "      <th>33644</th>\n",
       "      <td>A563185</td>\n",
       "      <td>11062.06</td>\n",
       "    </tr>\n",
       "  </tbody>\n",
       "</table>\n",
       "</div>"
      ],
      "text/plain": [
       "       Invoice        TS\n",
       "24192   556444  38970.00\n",
       "17393   537659  11892.48\n",
       "15080   531516  11195.96\n",
       "21957   550461  11171.40\n",
       "33644  A563185  11062.06"
      ]
     },
     "execution_count": 26,
     "metadata": {},
     "output_type": "execute_result"
    }
   ],
   "source": [
    "random_sample['TS'] = random_sample['Quantity'] * random_sample['Price']\n",
    "\n",
    "# Aggregate the sales per invoice\n",
    "sales_per_invoice = random_sample.groupby('Invoice')['TS'].sum().reset_index()\n",
    "\n",
    "# Sort the DataFrame by TotalSales column in descending order\n",
    "sorted_invoices = sales_per_invoice.sort_values('TS', ascending=False)\n",
    "\n",
    "# Take the first 5 rows\n",
    "top_5_invoices = sorted_invoices.head(5)\n",
    "\n",
    "print(\"Top 5 invoices by total sales:\")\n",
    "top_5_invoices"
   ]
  },
  {
   "cell_type": "markdown",
   "id": "9193f9a9-4e94-42b1-8670-aaab3d664ffe",
   "metadata": {},
   "source": [
    "These invoices represent the highest total sales values among all transactions in the dataset."
   ]
  },
  {
   "cell_type": "markdown",
   "id": "06b144a4-17cc-427e-a69c-822c7808dcb3",
   "metadata": {},
   "source": [
    "2.2 Compute the total sales per customer and list the top 5 customers."
   ]
  },
  {
   "cell_type": "code",
   "execution_count": 92,
   "id": "3a36bf6e-1574-42c6-92a2-88bdf3410f56",
   "metadata": {},
   "outputs": [
    {
     "name": "stdout",
     "output_type": "stream",
     "text": [
      "Top 5 customers by total sales:\n"
     ]
    },
    {
     "data": {
      "text/html": [
       "<div>\n",
       "<style scoped>\n",
       "    .dataframe tbody tr th:only-of-type {\n",
       "        vertical-align: middle;\n",
       "    }\n",
       "\n",
       "    .dataframe tbody tr th {\n",
       "        vertical-align: top;\n",
       "    }\n",
       "\n",
       "    .dataframe thead th {\n",
       "        text-align: right;\n",
       "    }\n",
       "</style>\n",
       "<table border=\"1\" class=\"dataframe\">\n",
       "  <thead>\n",
       "    <tr style=\"text-align: right;\">\n",
       "      <th></th>\n",
       "      <th>Customer ID</th>\n",
       "      <th>TS</th>\n",
       "    </tr>\n",
       "  </thead>\n",
       "  <tbody>\n",
       "    <tr>\n",
       "      <th>5418</th>\n",
       "      <td>18102.0</td>\n",
       "      <td>108417.64</td>\n",
       "    </tr>\n",
       "    <tr>\n",
       "      <th>2177</th>\n",
       "      <td>14646.0</td>\n",
       "      <td>95647.35</td>\n",
       "    </tr>\n",
       "    <tr>\n",
       "      <th>1704</th>\n",
       "      <td>14156.0</td>\n",
       "      <td>55448.12</td>\n",
       "    </tr>\n",
       "    <tr>\n",
       "      <th>2420</th>\n",
       "      <td>14911.0</td>\n",
       "      <td>50983.41</td>\n",
       "    </tr>\n",
       "    <tr>\n",
       "      <th>2594</th>\n",
       "      <td>15098.0</td>\n",
       "      <td>38970.00</td>\n",
       "    </tr>\n",
       "  </tbody>\n",
       "</table>\n",
       "</div>"
      ],
      "text/plain": [
       "      Customer ID         TS\n",
       "5418      18102.0  108417.64\n",
       "2177      14646.0   95647.35\n",
       "1704      14156.0   55448.12\n",
       "2420      14911.0   50983.41\n",
       "2594      15098.0   38970.00"
      ]
     },
     "execution_count": 92,
     "metadata": {},
     "output_type": "execute_result"
    }
   ],
   "source": [
    "# Calculate the total sales for each row\n",
    "random_sample['TS'] = random_sample['Quantity'] * random_sample['Price']\n",
    "\n",
    "# Aggregate the sales per customer\n",
    "sales_per_customer = random_sample.groupby('Customer ID')['TS'].sum().reset_index()\n",
    "\n",
    "# Sort the DataFrame by TotalSales column in descending order\n",
    "sorted_customers = sales_per_customer.sort_values('TS', ascending=False)\n",
    "\n",
    "# Take the first 5 rows\n",
    "top_5_customers = sorted_customers.head(5)\n",
    "\n",
    "print(\"Top 5 customers by total sales:\")\n",
    "top_5_customers\n"
   ]
  },
  {
   "cell_type": "markdown",
   "id": "fedb8456-0dda-4110-835b-9d4013533a75",
   "metadata": {},
   "source": [
    "These customers have contributed the most to the company's revenue during the specified time frame. It is crucial for the business to focus on retaining and nurturing these high-value customers to ensure sustained profitability."
   ]
  },
  {
   "cell_type": "markdown",
   "id": "98c45ac3-4c55-4a11-a2d1-13c4f189099f",
   "metadata": {},
   "source": [
    "2.3 Identify the top 5 selling items during this period."
   ]
  },
  {
   "cell_type": "code",
   "execution_count": 32,
   "id": "10732d55-5a2f-45b0-a6b5-7ab42b534bd2",
   "metadata": {},
   "outputs": [
    {
     "name": "stdout",
     "output_type": "stream",
     "text": [
      "Top 5 selling items during the period:\n"
     ]
    },
    {
     "data": {
      "text/html": [
       "<div>\n",
       "<style scoped>\n",
       "    .dataframe tbody tr th:only-of-type {\n",
       "        vertical-align: middle;\n",
       "    }\n",
       "\n",
       "    .dataframe tbody tr th {\n",
       "        vertical-align: top;\n",
       "    }\n",
       "\n",
       "    .dataframe thead th {\n",
       "        text-align: right;\n",
       "    }\n",
       "</style>\n",
       "<table border=\"1\" class=\"dataframe\">\n",
       "  <thead>\n",
       "    <tr style=\"text-align: right;\">\n",
       "      <th></th>\n",
       "      <th>StockCode</th>\n",
       "      <th>Quantity</th>\n",
       "    </tr>\n",
       "  </thead>\n",
       "  <tbody>\n",
       "    <tr>\n",
       "      <th>4139</th>\n",
       "      <td>85123A</td>\n",
       "      <td>21591</td>\n",
       "    </tr>\n",
       "    <tr>\n",
       "      <th>3855</th>\n",
       "      <td>84879</td>\n",
       "      <td>19629</td>\n",
       "    </tr>\n",
       "    <tr>\n",
       "      <th>599</th>\n",
       "      <td>21212</td>\n",
       "      <td>18582</td>\n",
       "    </tr>\n",
       "    <tr>\n",
       "      <th>3437</th>\n",
       "      <td>84077</td>\n",
       "      <td>18203</td>\n",
       "    </tr>\n",
       "    <tr>\n",
       "      <th>4111</th>\n",
       "      <td>85099B</td>\n",
       "      <td>17094</td>\n",
       "    </tr>\n",
       "  </tbody>\n",
       "</table>\n",
       "</div>"
      ],
      "text/plain": [
       "     StockCode  Quantity\n",
       "4139    85123A     21591\n",
       "3855     84879     19629\n",
       "599      21212     18582\n",
       "3437     84077     18203\n",
       "4111    85099B     17094"
      ]
     },
     "execution_count": 32,
     "metadata": {},
     "output_type": "execute_result"
    }
   ],
   "source": [
    "# Aggregate the total quantity sold for each item\n",
    "item_sales = random_sample.groupby('StockCode')['Quantity'].sum().reset_index()\n",
    "\n",
    "# Sort the DataFrame by Quantity column in descending order\n",
    "top_selling_items = item_sales.sort_values('Quantity', ascending=False).head(5)\n",
    "\n",
    "print(\"Top 5 selling items during the period:\")\n",
    "top_selling_items"
   ]
  },
  {
   "cell_type": "markdown",
   "id": "25a4e401-b98f-4521-9d8c-8b52790742b6",
   "metadata": {},
   "source": [
    "These items have been the most popular and have contributed significantly to the overall sales volume during the specified time frame. Understanding the demand for these items can help in inventory management and marketing strategies."
   ]
  },
  {
   "cell_type": "markdown",
   "id": "7363bd31-498c-4f72-9984-b814c67a29f3",
   "metadata": {},
   "source": [
    "2.4 Determine the most frequently purchased item pairs by customers and display the top 20 pairs."
   ]
  },
  {
   "cell_type": "code",
   "execution_count": 66,
   "id": "4c16dec7-e6ae-4413-af7e-9f7b39093826",
   "metadata": {},
   "outputs": [
    {
     "name": "stdout",
     "output_type": "stream",
     "text": [
      "Top 20 most frequently purchased item pairs by customers:\n",
      "('WHITE HANGING HEART T-LIGHT HOLDER', 'RED HANGING HEART T-LIGHT HOLDER') - 36\n",
      "('PINK REGENCY TEACUP AND SAUCER', 'GREEN REGENCY TEACUP AND SAUCER') - 33\n",
      "('JUMBO STORAGE BAG SUKI', 'JUMBO BAG RED RETROSPOT') - 32\n",
      "('JUMBO STORAGE BAG SUKI', 'JUMBO SHOPPER VINTAGE RED PAISLEY') - 28\n",
      "('PACK OF 60 PINK PAISLEY CAKE CASES', '60 TEATIME FAIRY CAKE CASES') - 27\n",
      "('RED HANGING HEART T-LIGHT HOLDER', 'WHITE HANGING HEART T-LIGHT HOLDER') - 27\n",
      "('HEART OF WICKER LARGE', 'HEART OF WICKER SMALL') - 26\n",
      "('HEART OF WICKER SMALL', 'HEART OF WICKER LARGE') - 25\n",
      "('JUMBO SHOPPER VINTAGE RED PAISLEY', 'JUMBO BAG RED RETROSPOT') - 24\n",
      "('WOODEN PICTURE FRAME WHITE FINISH', 'WOODEN FRAME ANTIQUE WHITE ') - 23\n",
      "('REGENCY CAKESTAND 3 TIER', 'WHITE HANGING HEART T-LIGHT HOLDER') - 23\n",
      "('JUMBO BAG RED RETROSPOT', 'JUMBO BAG STRAWBERRY') - 23\n",
      "('JUMBO BAG RED RETROSPOT', 'JUMBO  BAG BAROQUE BLACK WHITE') - 23\n",
      "('GREEN REGENCY TEACUP AND SAUCER', 'ROSES REGENCY TEACUP AND SAUCER ') - 23\n",
      "('ALARM CLOCK BAKELIKE GREEN', 'ALARM CLOCK BAKELIKE RED ') - 23\n",
      "('JUMBO STORAGE BAG SUKI', 'JUMBO BAG STRAWBERRY') - 22\n",
      "('60 TEATIME FAIRY CAKE CASES', 'PACK OF 60 PINK PAISLEY CAKE CASES') - 21\n",
      "('JUMBO BAG STRAWBERRY', 'JUMBO BAG RED RETROSPOT') - 21\n",
      "('LUNCH BAG  BLACK SKULL.', 'LUNCH BAG CARS BLUE') - 21\n",
      "('ROSES REGENCY TEACUP AND SAUCER ', 'GREEN REGENCY TEACUP AND SAUCER') - 21\n"
     ]
    }
   ],
   "source": [
    "from itertools import combinations\n",
    "from collections import Counter\n",
    "\n",
    "# Group the dataset by Invoice and aggregate the descriptions into lists\n",
    "invoice_descriptions = random_sample.groupby('Invoice')['Description'].apply(list)\n",
    "\n",
    "# Initialize Counter for item pairs\n",
    "pairs_counter = Counter()\n",
    "\n",
    "# Iterate over each list of descriptions\n",
    "for descriptions in invoice_descriptions:\n",
    "    # Generate all possible pairs of descriptions in the list\n",
    "    item_pairs = combinations(descriptions, 2)\n",
    "    # Update the counter with the pairs\n",
    "    for pair in item_pairs:\n",
    "        pairs_counter[pair] += 1\n",
    "\n",
    "# Sort the counter by frequency in descending order\n",
    "sorted_pairs = sorted(pairs_counter.items(), key=lambda x: x[1], reverse=True)\n",
    "\n",
    "# Get the top 20 most common item pairs\n",
    "top_20_item_pairs = sorted_pairs[:20]\n",
    "\n",
    "# Print the result\n",
    "print(\"Top 20 most frequently purchased item pairs by customers:\")\n",
    "for pair, frequency in top_20_item_pairs:\n",
    "    print(pair, \"-\", frequency)\n"
   ]
  },
  {
   "cell_type": "markdown",
   "id": "aaeb7b20-7c47-406c-8f78-1027d488d5a0",
   "metadata": {},
   "source": [
    "These pairs represent the combinations of items that were most frequently purchased together by customers during the analyzed period.\n",
    "Note: I did not find a way to print them in groups except through combinations"
   ]
  },
  {
   "cell_type": "markdown",
   "id": "b1601bca-4505-4c50-91ab-e1a5c6699481",
   "metadata": {},
   "source": [
    "2.5 The retail store aims to introduce a new promotion targeting items with low sales volume. This promotion entails offering a discounted price for a pair of two different items, with one item being among the top 10 best sellers and the other from the bottom 10 sellers. Customers who purchase these two items together will qualify for the special pricing. Your task is to recommend 10 pairs of items to kickstart this campaign."
   ]
  },
  {
   "cell_type": "code",
   "execution_count": 90,
   "id": "addb80d0-d4a5-43a7-ae07-9aab4d1f9b86",
   "metadata": {},
   "outputs": [
    {
     "data": {
      "text/plain": [
       "[('ASSORTED COLOUR BIRD ORNAMENT', 'Ebay sales by the box.'),\n",
       " ('ASSORTED COLOUR BIRD ORNAMENT', 'missing'),\n",
       " ('ASSORTED COLOUR BIRD ORNAMENT', 'given away'),\n",
       " ('ASSORTED COLOUR BIRD ORNAMENT', 'RED POLKADOT PUDDING BOWL'),\n",
       " ('ASSORTED COLOUR BIRD ORNAMENT', 'ebay sales'),\n",
       " ('ASSORTED COLOUR BIRD ORNAMENT', 'WHITE WITH BLACK CATS PLATE'),\n",
       " ('ASSORTED COLOUR BIRD ORNAMENT', 'check'),\n",
       " ('ASSORTED COLOUR BIRD ORNAMENT', 'mouldy, thrown away.'),\n",
       " ('ASSORTED COLOUR BIRD ORNAMENT', 'missing (wrongly coded?)'),\n",
       " ('ASSORTED COLOUR BIRD ORNAMENT', 'thrown away')]"
      ]
     },
     "execution_count": 90,
     "metadata": {},
     "output_type": "execute_result"
    }
   ],
   "source": [
    "# Getting the top 10 && the bottom 10 sellimg items \n",
    "top10Sold = random_sample.groupby('Description')['Quantity'].sum().sort_values(ascending=False).head(10)\n",
    "\n",
    "# Filter the original DataFrame to include only the top 10 selling items\n",
    "random_sample_top10 = random_sample[random_sample['Description'].isin(top10Sold.index)]\n",
    "\n",
    "# Group the filtered DataFrame by 'Description' and sum the 'Quantity' to get the total quantity sold for each item\n",
    "top10Sold_filtered = random_sample_top10.groupby('Description')['Quantity'].sum().sort_values(ascending=False)\n",
    "bottom10Sold = random_sample.groupby('Description')['Quantity'].sum().sort_values(ascending=True).head(10)\n",
    "\n",
    "top10 = top10Sold.index.tolist() # Convert them to lists\n",
    "bottom10 = bottom10Sold.index.tolist()\n",
    "\n",
    "# Create pairs by pairing each top item with each bottom item\n",
    "pairs = [(top, bottom) for top in top10\n",
    "          for bottom in bottom10\n",
    "          if top != bottom\n",
    "         ]\n",
    "\n",
    "pairs[:10] #the recommended 10 pairs result\n"
   ]
  },
  {
   "cell_type": "markdown",
   "id": "e82afe65-5904-4f3d-8e5b-48705bda6451",
   "metadata": {},
   "source": [
    "These pairs consist of a top-selling item and a bottom-selling item, which can be used for the promotional campaign as suggested."
   ]
  }
 ],
 "metadata": {
  "kernelspec": {
   "display_name": "Python 3 (ipykernel)",
   "language": "python",
   "name": "python3"
  },
  "language_info": {
   "codemirror_mode": {
    "name": "ipython",
    "version": 3
   },
   "file_extension": ".py",
   "mimetype": "text/x-python",
   "name": "python",
   "nbconvert_exporter": "python",
   "pygments_lexer": "ipython3",
   "version": "3.12.2"
  }
 },
 "nbformat": 4,
 "nbformat_minor": 5
}
